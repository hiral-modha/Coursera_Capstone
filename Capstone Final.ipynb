{
 "cells": [
  {
   "cell_type": "markdown",
   "metadata": {},
   "source": [
    "# **Capstone Project - The Battle of Neighborhoods**"
   ]
  },
  {
   "cell_type": "markdown",
   "metadata": {},
   "source": [
    "In this project we will try to find best place in Toronto having Indian Cuisine and Ideal place to invest in an Indian Restaurant."
   ]
  },
  {
   "cell_type": "markdown",
   "metadata": {},
   "source": [
    "We will import the required libraries for python.\n",
    "\n",
    "* Pandas and numpy for handling data.\n",
    "* Request module for using FourSquare API.\n",
    "* Geopy to get co-ordinates of Toronto.\n",
    "* Folium to visualize the results on a map."
   ]
  },
  {
   "cell_type": "code",
   "execution_count": 1,
   "metadata": {},
   "outputs": [
    {
     "name": "stdout",
     "output_type": "stream",
     "text": [
      "Collecting beautifulsoup4\n",
      "\u001b[?25l  Downloading https://files.pythonhosted.org/packages/d1/41/e6495bd7d3781cee623ce23ea6ac73282a373088fcd0ddc809a047b18eae/beautifulsoup4-4.9.3-py3-none-any.whl (115kB)\n",
      "\u001b[K     |████████████████████████████████| 122kB 5.4MB/s eta 0:00:01\n",
      "\u001b[?25hCollecting soupsieve>1.2; python_version >= \"3.0\" (from beautifulsoup4)\n",
      "  Downloading https://files.pythonhosted.org/packages/02/fb/1c65691a9aeb7bd6ac2aa505b84cb8b49ac29c976411c6ab3659425e045f/soupsieve-2.1-py3-none-any.whl\n",
      "Installing collected packages: soupsieve, beautifulsoup4\n",
      "Successfully installed beautifulsoup4-4.9.3 soupsieve-2.1\n",
      "Collecting geocoder\n",
      "\u001b[?25l  Downloading https://files.pythonhosted.org/packages/4f/6b/13166c909ad2f2d76b929a4227c952630ebaf0d729f6317eb09cbceccbab/geocoder-1.38.1-py2.py3-none-any.whl (98kB)\n",
      "\u001b[K     |████████████████████████████████| 102kB 6.5MB/s ta 0:00:011\n",
      "\u001b[?25hRequirement already satisfied: click in /home/jupyterlab/conda/envs/python/lib/python3.6/site-packages (from geocoder) (7.1.2)\n",
      "Requirement already satisfied: six in /home/jupyterlab/conda/envs/python/lib/python3.6/site-packages (from geocoder) (1.15.0)\n",
      "Requirement already satisfied: requests in /home/jupyterlab/conda/envs/python/lib/python3.6/site-packages (from geocoder) (2.25.0)\n",
      "Collecting ratelim (from geocoder)\n",
      "  Downloading https://files.pythonhosted.org/packages/f2/98/7e6d147fd16a10a5f821db6e25f192265d6ecca3d82957a4fdd592cad49c/ratelim-0.1.6-py2.py3-none-any.whl\n",
      "Requirement already satisfied: future in /home/jupyterlab/conda/envs/python/lib/python3.6/site-packages (from geocoder) (0.18.2)\n",
      "Requirement already satisfied: chardet<4,>=3.0.2 in /home/jupyterlab/conda/envs/python/lib/python3.6/site-packages (from requests->geocoder) (3.0.4)\n",
      "Requirement already satisfied: urllib3<1.27,>=1.21.1 in /home/jupyterlab/conda/envs/python/lib/python3.6/site-packages (from requests->geocoder) (1.25.11)\n",
      "Requirement already satisfied: certifi>=2017.4.17 in /home/jupyterlab/conda/envs/python/lib/python3.6/site-packages (from requests->geocoder) (2020.12.5)\n",
      "Requirement already satisfied: idna<3,>=2.5 in /home/jupyterlab/conda/envs/python/lib/python3.6/site-packages (from requests->geocoder) (2.10)\n",
      "Requirement already satisfied: decorator in /home/jupyterlab/conda/envs/python/lib/python3.6/site-packages (from ratelim->geocoder) (4.4.2)\n",
      "Installing collected packages: ratelim, geocoder\n",
      "Successfully installed geocoder-1.38.1 ratelim-0.1.6\n",
      "Collecting package metadata (current_repodata.json): done\n",
      "Solving environment: done\n",
      "\n",
      "## Package Plan ##\n",
      "\n",
      "  environment location: /home/jupyterlab/conda/envs/python\n",
      "\n",
      "  added / updated specs:\n",
      "    - geopy\n",
      "\n",
      "\n",
      "The following packages will be downloaded:\n",
      "\n",
      "    package                    |            build\n",
      "    ---------------------------|-----------------\n",
      "    geographiclib-1.50         |             py_0          34 KB  conda-forge\n",
      "    geopy-2.0.0                |     pyh9f0ad1d_0          63 KB  conda-forge\n",
      "    ------------------------------------------------------------\n",
      "                                           Total:          97 KB\n",
      "\n",
      "The following NEW packages will be INSTALLED:\n",
      "\n",
      "  geographiclib      conda-forge/noarch::geographiclib-1.50-py_0\n",
      "  geopy              conda-forge/noarch::geopy-2.0.0-pyh9f0ad1d_0\n",
      "\n",
      "\n",
      "\n",
      "Downloading and Extracting Packages\n",
      "geopy-2.0.0          | 63 KB     | ##################################### | 100% \n",
      "geographiclib-1.50   | 34 KB     | ##################################### | 100% \n",
      "Preparing transaction: done\n",
      "Verifying transaction: done\n",
      "Executing transaction: done\n",
      "Libraries imported.\n"
     ]
    }
   ],
   "source": [
    "import pandas as pd\n",
    "import numpy as np\n",
    "pd.set_option('display.max_columns', None)\n",
    "pd.set_option('display.max_rows', None)\n",
    "import requests\n",
    "!pip install beautifulsoup4\n",
    "from bs4 import BeautifulSoup as bs\n",
    "!pip install geocoder\n",
    "import geocoder\n",
    "import os\n",
    "import folium # map rendering library\n",
    "!conda install -c conda-forge geopy --yes\n",
    "from geopy.geocoders import Nominatim # convert an address into latitude and longitude values\n",
    "# Matplotlib and associated plotting modules\n",
    "import matplotlib.pyplot as plt\n",
    "import matplotlib.cm as cm\n",
    "import matplotlib.colors as colors\n",
    "%matplotlib inline\n",
    "\n",
    "\n",
    "print('Libraries imported.')"
   ]
  },
  {
   "cell_type": "markdown",
   "metadata": {},
   "source": [
    "Now we will define a function to get the geocodes i.e latitude and longitude of a location using geopy."
   ]
  },
  {
   "cell_type": "code",
   "execution_count": 2,
   "metadata": {},
   "outputs": [],
   "source": [
    "def geo_location(address):\n",
    "    # get geo location of address\n",
    "    geolocator = Nominatim(user_agent=\"to_explorer\")\n",
    "    location = geolocator.geocode(address)\n",
    "    latitude = location.latitude\n",
    "    longitude = location.longitude\n",
    "    return latitude,longitude"
   ]
  },
  {
   "cell_type": "markdown",
   "metadata": {},
   "source": [
    "We will define a function to intract with FourSquare API and get top 100 venues within a radius of 1000 metres for a given latitude and longitude. This function will return us the venue id , venue name and category."
   ]
  },
  {
   "cell_type": "code",
   "execution_count": 30,
   "metadata": {},
   "outputs": [],
   "source": [
    "def get_venues(lat,lng):\n",
    "    \n",
    "    #set variables\n",
    "    radius=1000\n",
    "    LIMIT=100\n",
    "    CLIENT_ID = 'VDY5BUFMOOKIYSDYUQA5W2NQKWYIVUM4QQ40K5SYJMXK0W5F' # your Foursquare ID\n",
    "    CLIENT_SECRET = 'NGWYHYPQXCNPTGHTZFIB5PFU3G3JIVTWQV1TF52CBMU3MIJ1' # your Foursquare Secret\n",
    "    VERSION = '20180605' # Foursquare API version\n",
    "    \n",
    "    #url to fetch data from foursquare api\n",
    "    url = 'https://api.foursquare.com/v2/venues/explore?&client_id={}&client_secret={}&v={}&ll={},{}&radius={}&limit={}'.format(\n",
    "    CLIENT_ID, \n",
    "    CLIENT_SECRET, \n",
    "    VERSION, \n",
    "    lat, \n",
    "    lng, \n",
    "    radius, \n",
    "    LIMIT)\n",
    "    \n",
    "    # get all the data\n",
    "    results = requests.get(url).json()\n",
    "    venue_data=results[\"response\"]['groups'][0]['items']\n",
    "    venue_details=[]\n",
    "    for row in venue_data:\n",
    "        try:\n",
    "            venue_id=row['venue']['id']\n",
    "            venue_name=row['venue']['name']\n",
    "            venue_category=row['venue']['categories'][0]['name']\n",
    "            venue_details.append([venue_id,venue_name,venue_category])\n",
    "        except KeyError:\n",
    "            pass\n",
    "        \n",
    "    column_names=['ID','Name','Category']\n",
    "    df = pd.DataFrame(venue_details,columns=column_names)\n",
    "    return df"
   ]
  },
  {
   "cell_type": "markdown",
   "metadata": {},
   "source": [
    "Now we will define a function to get venue details similar to like count , rating , tip counts for a given venue id. This will be used for ranking the venues."
   ]
  },
  {
   "cell_type": "code",
   "execution_count": 79,
   "metadata": {},
   "outputs": [],
   "source": [
    "def get_venue_details(venue_id):\n",
    "        \n",
    "    CLIENT_ID = 'VDY5BUFMOOKIYSDYUQA5W2NQKWYIVUM4QQ40K5SYJMXK0W5F' # your Foursquare ID\n",
    "    CLIENT_SECRET = 'NGWYHYPQXCNPTGHTZFIB5PFU3G3JIVTWQV1TF52CBMU3MIJ1' # your Foursquare Secret\n",
    "    VERSION = '20180605' # Foursquare API version\n",
    "    \n",
    "    #url to fetch data from foursquare api\n",
    "    url = 'https://api.foursquare.com/v2/venues/{}?&client_id={}&client_secret={}&v={}'.format(\n",
    "            venue_id,\n",
    "            CLIENT_ID, \n",
    "            CLIENT_SECRET, \n",
    "            VERSION)\n",
    "    \n",
    "    # get all the data\n",
    "    results = requests.get(url).json()\n",
    "    venue_data=results['response']['venue']\n",
    "    venue_details=[]\n",
    "    try:\n",
    "        venue_id=venue_data['id']\n",
    "        venue_name=venue_data['name']\n",
    "        venue_likes=venue_data['likes']['count']\n",
    "        venue_rating=venue_data['rating']\n",
    "        venue_tips=venue_data['tips']['count']\n",
    "        venue_details.append([venue_id,venue_name,venue_likes,venue_rating,venue_tips])\n",
    "    except KeyError:\n",
    "        pass\n",
    "        \n",
    "    column_names=['ID','Name','Likes','Rating','Tips']\n",
    "    df = pd.DataFrame(venue_details,columns=column_names)\n",
    "    return df"
   ]
  },
  {
   "cell_type": "markdown",
   "metadata": {},
   "source": [
    "Now we will get the Toronto city data such as Boroughs, Neighborhoods along with their latitude and longitude using wikipedia page for Postal Codes."
   ]
  },
  {
   "cell_type": "code",
   "execution_count": 5,
   "metadata": {},
   "outputs": [
    {
     "data": {
      "text/html": [
       "<div>\n",
       "<style scoped>\n",
       "    .dataframe tbody tr th:only-of-type {\n",
       "        vertical-align: middle;\n",
       "    }\n",
       "\n",
       "    .dataframe tbody tr th {\n",
       "        vertical-align: top;\n",
       "    }\n",
       "\n",
       "    .dataframe thead th {\n",
       "        text-align: right;\n",
       "    }\n",
       "</style>\n",
       "<table border=\"1\" class=\"dataframe\">\n",
       "  <thead>\n",
       "    <tr style=\"text-align: right;\">\n",
       "      <th></th>\n",
       "      <th>Borough</th>\n",
       "      <th>Neighborhood</th>\n",
       "      <th>Latitude</th>\n",
       "      <th>Longitude</th>\n",
       "    </tr>\n",
       "  </thead>\n",
       "  <tbody>\n",
       "    <tr>\n",
       "      <th>0</th>\n",
       "      <td>North York</td>\n",
       "      <td>Parkwoods</td>\n",
       "      <td>43.753259</td>\n",
       "      <td>-79.329656</td>\n",
       "    </tr>\n",
       "    <tr>\n",
       "      <th>1</th>\n",
       "      <td>North York</td>\n",
       "      <td>Victoria Village</td>\n",
       "      <td>43.725882</td>\n",
       "      <td>-79.315572</td>\n",
       "    </tr>\n",
       "    <tr>\n",
       "      <th>2</th>\n",
       "      <td>Downtown Toronto</td>\n",
       "      <td>Regent Park, Harbourfront</td>\n",
       "      <td>43.654260</td>\n",
       "      <td>-79.360636</td>\n",
       "    </tr>\n",
       "    <tr>\n",
       "      <th>3</th>\n",
       "      <td>North York</td>\n",
       "      <td>Lawrence Manor, Lawrence Heights</td>\n",
       "      <td>43.718518</td>\n",
       "      <td>-79.464763</td>\n",
       "    </tr>\n",
       "    <tr>\n",
       "      <th>4</th>\n",
       "      <td>Downtown Toronto</td>\n",
       "      <td>Queen's Park, Ontario Provincial Government</td>\n",
       "      <td>43.662301</td>\n",
       "      <td>-79.389494</td>\n",
       "    </tr>\n",
       "  </tbody>\n",
       "</table>\n",
       "</div>"
      ],
      "text/plain": [
       "            Borough                                 Neighborhood   Latitude  \\\n",
       "0        North York                                    Parkwoods  43.753259   \n",
       "1        North York                             Victoria Village  43.725882   \n",
       "2  Downtown Toronto                    Regent Park, Harbourfront  43.654260   \n",
       "3        North York             Lawrence Manor, Lawrence Heights  43.718518   \n",
       "4  Downtown Toronto  Queen's Park, Ontario Provincial Government  43.662301   \n",
       "\n",
       "   Longitude  \n",
       "0 -79.329656  \n",
       "1 -79.315572  \n",
       "2 -79.360636  \n",
       "3 -79.464763  \n",
       "4 -79.389494  "
      ]
     },
     "execution_count": 5,
     "metadata": {},
     "output_type": "execute_result"
    }
   ],
   "source": [
    "from urllib.request import urlopen\n",
    "\n",
    "source = urlopen(\"https://en.wikipedia.org/wiki/List_of_postal_codes_of_Canada:_M\").read()\n",
    "soup = bs(source, \"html.parser\")\n",
    "\n",
    "table = soup.table\n",
    "\n",
    "table_rows = table.find_all(\"tr\")\n",
    "\n",
    "postal_codes = []\n",
    "\n",
    "for tr in table_rows:\n",
    "    td = tr.find_all(\"td\")\n",
    "    row = [ i.text[:-1] for i in td]\n",
    "    postal_codes.append(row)\n",
    "    #print(row)\n",
    "\n",
    "postal_codes.pop(0)\n",
    "\n",
    "df = pd.DataFrame(postal_codes, columns=['PostalCode', 'Borough', 'Neighborhood'])\n",
    "\n",
    "#Drop the rows where Borough is not assigned.\n",
    "df.drop(df.index[df['Borough'] == 'Not assigned'],inplace=True)\n",
    "df.reset_index(drop=True, inplace=True)\n",
    "\n",
    "#Changing the Neigborhood name to Borough name where naighbourhood names Not Assigned\n",
    "df['Neighborhood'] = np.where(df['Neighborhood'] == 'Not assigned', df['Borough'], df['Neighborhood'])\n",
    "\n",
    "#Creating Dataframe of PostalCodes and their Latitude and Longitudes.\n",
    "df_lat = pd.read_csv('http://cocl.us/Geospatial_data')\n",
    "\n",
    "#Merge both dataframes based on Postal Code and drop duplicate column of Postal code\n",
    "df_to = pd.merge(df,df_lat, how = 'left', left_on='PostalCode',right_on='Postal Code')\n",
    "df_to = df_to.drop('Postal Code',1)\n",
    "df_to = df_to.drop('PostalCode',1)\n",
    "df_to.head()"
   ]
  },
  {
   "cell_type": "code",
   "execution_count": 6,
   "metadata": {},
   "outputs": [
    {
     "data": {
      "text/plain": [
       "(103, 4)"
      ]
     },
     "execution_count": 6,
     "metadata": {},
     "output_type": "execute_result"
    }
   ],
   "source": [
    "df_to.shape"
   ]
  },
  {
   "cell_type": "markdown",
   "metadata": {},
   "source": [
    "There are total of 103 different Neighborhoods in Toronto"
   ]
  },
  {
   "cell_type": "code",
   "execution_count": 7,
   "metadata": {},
   "outputs": [
    {
     "data": {
      "image/png": "[encoded data removed]",
      "text/plain": [
       "<Figure size 900x500 with 1 Axes>"
      ]
     },
     "metadata": {
      "needs_background": "light"
     },
     "output_type": "display_data"
    }
   ],
   "source": [
    "plt.figure(figsize=(9,5), dpi = 100)\n",
    "# title\n",
    "plt.title('Number of Neighborhood for each Borough in Toronto')\n",
    "#On x-axis\n",
    "plt.xlabel('Borough', fontsize = 15)\n",
    "#On y-axis\n",
    "plt.ylabel('No.of Neighborhood', fontsize=15)\n",
    "#giving a bar plot\n",
    "df_to.groupby('Borough')['Neighborhood'].count().plot(kind='bar')\n",
    "#legend\n",
    "plt.legend()\n",
    "#displays the plot\n",
    "plt.show()"
   ]
  },
  {
   "cell_type": "markdown",
   "metadata": {},
   "source": [
    "We can see that Toronto has 10 Boroughs and North York has maximum Neighborhoods"
   ]
  },
  {
   "cell_type": "markdown",
   "metadata": {},
   "source": [
    "Now we will collect details of Indian resturants in each Neighborhood"
   ]
  },
  {
   "cell_type": "code",
   "execution_count": 8,
   "metadata": {},
   "outputs": [
    {
     "name": "stdout",
     "output_type": "stream",
     "text": [
      "( 1 / 103 ) Indian Resturants in Parkwoods, North York:0\n",
      "( 2 / 103 ) Indian Resturants in Victoria Village, North York:0\n",
      "( 3 / 103 ) Indian Resturants in Regent Park, Harbourfront, Downtown Toronto:2\n",
      "( 4 / 103 ) Indian Resturants in Lawrence Manor, Lawrence Heights, North York:0\n",
      "( 5 / 103 ) Indian Resturants in Queen's Park, Ontario Provincial Government, Downtown Toronto:1\n",
      "( 6 / 103 ) Indian Resturants in Islington Avenue, Humber Valley Village, Etobicoke:0\n",
      "( 7 / 103 ) Indian Resturants in Malvern, Rouge, Scarborough:0\n",
      "( 8 / 103 ) Indian Resturants in Don Mills, North York:1\n",
      "( 9 / 103 ) Indian Resturants in Parkview Hill, Woodbine Gardens, East York:0\n",
      "( 10 / 103 ) Indian Resturants in Garden District, Ryerson, Downtown Toronto:0\n",
      "( 11 / 103 ) Indian Resturants in Glencairn, North York:0\n",
      "( 12 / 103 ) Indian Resturants in West Deane Park, Princess Gardens, Martin Grove, Islington, Cloverdale, Etobicoke:0\n",
      "( 13 / 103 ) Indian Resturants in Rouge Hill, Port Union, Highland Creek, Scarborough:0\n",
      "( 14 / 103 ) Indian Resturants in Don Mills, North York:0\n",
      "( 15 / 103 ) Indian Resturants in Woodbine Heights, East York:0\n",
      "( 16 / 103 ) Indian Resturants in St. James Town, Downtown Toronto:0\n",
      "( 17 / 103 ) Indian Resturants in Humewood-Cedarvale, York:0\n",
      "( 18 / 103 ) Indian Resturants in Eringate, Bloordale Gardens, Old Burnhamthorpe, Markland Wood, Etobicoke:0\n",
      "( 19 / 103 ) Indian Resturants in Guildwood, Morningside, West Hill, Scarborough:0\n",
      "( 20 / 103 ) Indian Resturants in The Beaches, East Toronto:2\n",
      "( 21 / 103 ) Indian Resturants in Berczy Park, Downtown Toronto:0\n",
      "( 22 / 103 ) Indian Resturants in Caledonia-Fairbanks, York:0\n",
      "( 23 / 103 ) Indian Resturants in Woburn, Scarborough:1\n",
      "( 24 / 103 ) Indian Resturants in Leaside, East York:1\n",
      "( 25 / 103 ) Indian Resturants in Central Bay Street, Downtown Toronto:0\n",
      "( 26 / 103 ) Indian Resturants in Christie, Downtown Toronto:2\n",
      "( 27 / 103 ) Indian Resturants in Cedarbrae, Scarborough:2\n",
      "( 28 / 103 ) Indian Resturants in Hillcrest Village, North York:0\n",
      "( 29 / 103 ) Indian Resturants in Bathurst Manor, Wilson Heights, Downsview North, North York:0\n",
      "( 30 / 103 ) Indian Resturants in Thorncliffe Park, East York:4\n",
      "( 31 / 103 ) Indian Resturants in Richmond, Adelaide, King, Downtown Toronto:0\n",
      "( 32 / 103 ) Indian Resturants in Dufferin, Dovercourt Village, West Toronto:0\n",
      "( 33 / 103 ) Indian Resturants in Scarborough Village, Scarborough:0\n",
      "( 34 / 103 ) Indian Resturants in Fairview, Henry Farm, Oriole, North York:0\n",
      "( 35 / 103 ) Indian Resturants in Northwood Park, York University, North York:0\n",
      "( 36 / 103 ) Indian Resturants in East Toronto, Broadview North (Old East York), East York:1\n",
      "( 37 / 103 ) Indian Resturants in Harbourfront East, Union Station, Toronto Islands, Downtown Toronto:1\n",
      "( 38 / 103 ) Indian Resturants in Little Portugal, Trinity, West Toronto:0\n",
      "( 39 / 103 ) Indian Resturants in Kennedy Park, Ionview, East Birchmount Park, Scarborough:0\n",
      "( 40 / 103 ) Indian Resturants in Bayview Village, North York:0\n",
      "( 41 / 103 ) Indian Resturants in Downsview, North York:0\n",
      "( 42 / 103 ) Indian Resturants in The Danforth West, Riverdale, East Toronto:1\n",
      "( 43 / 103 ) Indian Resturants in Toronto Dominion Centre, Design Exchange, Downtown Toronto:0\n",
      "( 44 / 103 ) Indian Resturants in Brockton, Parkdale Village, Exhibition Place, West Toronto:2\n",
      "( 45 / 103 ) Indian Resturants in Golden Mile, Clairlea, Oakridge, Scarborough:0\n",
      "( 46 / 103 ) Indian Resturants in York Mills, Silver Hills, North York:0\n",
      "( 47 / 103 ) Indian Resturants in Downsview, North York:0\n",
      "( 48 / 103 ) Indian Resturants in India Bazaar, The Beaches West, East Toronto:8\n",
      "( 49 / 103 ) Indian Resturants in Commerce Court, Victoria Hotel, Downtown Toronto:0\n",
      "( 50 / 103 ) Indian Resturants in North Park, Maple Leaf Park, Upwood Park, North York:0\n",
      "( 51 / 103 ) Indian Resturants in Humber Summit, North York:0\n",
      "( 52 / 103 ) Indian Resturants in Cliffside, Cliffcrest, Scarborough Village West, Scarborough:0\n",
      "( 53 / 103 ) Indian Resturants in Willowdale, Newtonbrook, North York:1\n",
      "( 54 / 103 ) Indian Resturants in Downsview, North York:0\n",
      "( 55 / 103 ) Indian Resturants in Studio District, East Toronto:0\n",
      "( 56 / 103 ) Indian Resturants in Bedford Park, Lawrence Manor East, North York:1\n",
      "( 57 / 103 ) Indian Resturants in Del Ray, Mount Dennis, Keelsdale and Silverthorn, York:0\n",
      "( 58 / 103 ) Indian Resturants in Humberlea, Emery, North York:0\n",
      "( 59 / 103 ) Indian Resturants in Birch Cliff, Cliffside West, Scarborough:0\n",
      "( 60 / 103 ) Indian Resturants in Willowdale, Willowdale East, North York:0\n",
      "( 61 / 103 ) Indian Resturants in Downsview, North York:0\n",
      "( 62 / 103 ) Indian Resturants in Lawrence Park, Central Toronto:0\n",
      "( 63 / 103 ) Indian Resturants in Roselawn, Central Toronto:0\n",
      "( 64 / 103 ) Indian Resturants in Runnymede, The Junction North, York:1\n",
      "( 65 / 103 ) Indian Resturants in Weston, York:0\n",
      "( 66 / 103 ) Indian Resturants in Dorset Park, Wexford Heights, Scarborough Town Centre, Scarborough:2\n",
      "( 67 / 103 ) Indian Resturants in York Mills West, North York:0\n",
      "( 68 / 103 ) Indian Resturants in Davisville North, Central Toronto:0\n",
      "( 69 / 103 ) Indian Resturants in Forest Hill North & West, Forest Hill Road Park, Central Toronto:0\n",
      "( 70 / 103 ) Indian Resturants in High Park, The Junction South, West Toronto:1\n",
      "( 71 / 103 ) Indian Resturants in Westmount, Etobicoke:0\n",
      "( 72 / 103 ) Indian Resturants in Wexford, Maryvale, Scarborough:1\n",
      "( 73 / 103 ) Indian Resturants in Willowdale, Willowdale West, North York:0\n",
      "( 74 / 103 ) Indian Resturants in North Toronto West,  Lawrence Park, Central Toronto:0\n",
      "( 75 / 103 ) Indian Resturants in The Annex, North Midtown, Yorkville, Central Toronto:2\n",
      "( 76 / 103 ) Indian Resturants in Parkdale, Roncesvalles, West Toronto:0\n",
      "( 77 / 103 ) Indian Resturants in Canada Post Gateway Processing Centre, Mississauga:2\n",
      "( 78 / 103 ) Indian Resturants in Kingsview Village, St. Phillips, Martin Grove Gardens, Richview Gardens, Etobicoke:0\n",
      "( 79 / 103 ) Indian Resturants in Agincourt, Scarborough:1\n",
      "( 80 / 103 ) Indian Resturants in Davisville, Central Toronto:3\n",
      "( 81 / 103 ) Indian Resturants in University of Toronto, Harbord, Downtown Toronto:0\n",
      "( 82 / 103 ) Indian Resturants in Runnymede, Swansea, West Toronto:1\n",
      "( 83 / 103 ) Indian Resturants in Clarks Corners, Tam O'Shanter, Sullivan, Scarborough:0\n",
      "( 84 / 103 ) Indian Resturants in Moore Park, Summerhill East, Central Toronto:0\n",
      "( 85 / 103 ) Indian Resturants in Kensington Market, Chinatown, Grange Park, Downtown Toronto:0\n",
      "( 86 / 103 ) Indian Resturants in Milliken, Agincourt North, Steeles East, L'Amoreaux East, Scarborough:0\n",
      "( 87 / 103 ) Indian Resturants in Summerhill West, Rathnelly, South Hill, Forest Hill SE, Deer Park, Central Toronto:0\n",
      "( 88 / 103 ) Indian Resturants in CN Tower, King and Spadina, Railway Lands, Harbourfront West, Bathurst Quay, South Niagara, Island airport, Downtown Toronto:0\n",
      "( 89 / 103 ) Indian Resturants in New Toronto, Mimico South, Humber Bay Shores, Etobicoke:1\n",
      "( 90 / 103 ) Indian Resturants in South Steeles, Silverstone, Humbergate, Jamestown, Mount Olive, Beaumond Heights, Thistletown, Albion Gardens, Etobicoke:0\n",
      "( 91 / 103 ) Indian Resturants in Steeles West, L'Amoreaux West, Scarborough:1\n",
      "( 92 / 103 ) Indian Resturants in Rosedale, Downtown Toronto:0\n",
      "( 93 / 103 ) Indian Resturants in Stn A PO Boxes, Downtown Toronto:0\n",
      "( 94 / 103 ) Indian Resturants in Alderwood, Long Branch, Etobicoke:0\n",
      "( 95 / 103 ) Indian Resturants in Northwest, West Humber - Clairville, Etobicoke:0\n",
      "( 96 / 103 ) Indian Resturants in Upper Rouge, Scarborough:0\n",
      "( 97 / 103 ) Indian Resturants in St. James Town, Cabbagetown, Downtown Toronto:1\n",
      "( 98 / 103 ) Indian Resturants in First Canadian Place, Underground city, Downtown Toronto:0\n",
      "( 99 / 103 ) Indian Resturants in The Kingsway, Montgomery Road, Old Mill North, Etobicoke:1\n",
      "( 100 / 103 ) Indian Resturants in Church and Wellesley, Downtown Toronto:1\n",
      "( 101 / 103 ) Indian Resturants in Business reply mail Processing Centre, South Central Letter Processing Plant Toronto, East Toronto:0\n",
      "( 102 / 103 ) Indian Resturants in Old Mill South, King's Mill Park, Sunnylea, Humber Bay, Mimico NE, The Queensway East, Royal York South East, Kingsway Park South East, Etobicoke:0\n",
      "( 103 / 103 ) Indian Resturants in Mimico NW, The Queensway West, South of Bloor, Kingsway Park South West, Royal York South West, Etobicoke:0\n"
     ]
    }
   ],
   "source": [
    "# prepare neighborhood list that contains indian resturants\n",
    "column_names=['Borough', 'Neighborhood', 'ID','Name']\n",
    "indian_rest_to=pd.DataFrame(columns=column_names)\n",
    "count=1\n",
    "for row in df_to.values.tolist():\n",
    "    Borough, Neighborhood, Latitude, Longitude=row\n",
    "    venues = get_venues(Latitude,Longitude)\n",
    "    indian_resturants=venues[venues['Category']=='Indian Restaurant']   \n",
    "    print('(',count,'/',len(df_to),')','Indian Resturants in '+Neighborhood+', '+Borough+':'+str(len(indian_resturants)))\n",
    "    for resturant_detail in indian_resturants.values.tolist():\n",
    "        id, name , category=resturant_detail\n",
    "        indian_rest_to = indian_rest_to.append({'Borough': Borough,\n",
    "                                                'Neighborhood': Neighborhood, \n",
    "                                                'ID': id,\n",
    "                                                'Name' : name\n",
    "                                               }, ignore_index=True)\n",
    "    count+=1"
   ]
  },
  {
   "cell_type": "markdown",
   "metadata": {},
   "source": [
    "Now that we have got all the Indian restaurants in Toronto , we will analyze it"
   ]
  },
  {
   "cell_type": "code",
   "execution_count": 9,
   "metadata": {},
   "outputs": [
    {
     "data": {
      "text/html": [
       "<div>\n",
       "<style scoped>\n",
       "    .dataframe tbody tr th:only-of-type {\n",
       "        vertical-align: middle;\n",
       "    }\n",
       "\n",
       "    .dataframe tbody tr th {\n",
       "        vertical-align: top;\n",
       "    }\n",
       "\n",
       "    .dataframe thead th {\n",
       "        text-align: right;\n",
       "    }\n",
       "</style>\n",
       "<table border=\"1\" class=\"dataframe\">\n",
       "  <thead>\n",
       "    <tr style=\"text-align: right;\">\n",
       "      <th></th>\n",
       "      <th>Borough</th>\n",
       "      <th>Neighborhood</th>\n",
       "      <th>ID</th>\n",
       "      <th>Name</th>\n",
       "    </tr>\n",
       "  </thead>\n",
       "  <tbody>\n",
       "    <tr>\n",
       "      <th>0</th>\n",
       "      <td>Downtown Toronto</td>\n",
       "      <td>Regent Park, Harbourfront</td>\n",
       "      <td>4af9a379f964a520c91222e3</td>\n",
       "      <td>Bombay Palace</td>\n",
       "    </tr>\n",
       "    <tr>\n",
       "      <th>1</th>\n",
       "      <td>Downtown Toronto</td>\n",
       "      <td>Regent Park, Harbourfront</td>\n",
       "      <td>52af6dc5498e33995b0bbf03</td>\n",
       "      <td>Sultan Of Samosas</td>\n",
       "    </tr>\n",
       "    <tr>\n",
       "      <th>2</th>\n",
       "      <td>Downtown Toronto</td>\n",
       "      <td>Queen's Park, Ontario Provincial Government</td>\n",
       "      <td>4bedf8b5e24d20a17b567214</td>\n",
       "      <td>Kothur Indian Cuisine</td>\n",
       "    </tr>\n",
       "    <tr>\n",
       "      <th>3</th>\n",
       "      <td>North York</td>\n",
       "      <td>Don Mills</td>\n",
       "      <td>5c229362a0215b002cb89eb2</td>\n",
       "      <td>Butter Chicken Roti</td>\n",
       "    </tr>\n",
       "    <tr>\n",
       "      <th>4</th>\n",
       "      <td>East Toronto</td>\n",
       "      <td>The Beaches</td>\n",
       "      <td>4dcd7c6352b1f8915b7e7f7e</td>\n",
       "      <td>Delhi Bistro</td>\n",
       "    </tr>\n",
       "  </tbody>\n",
       "</table>\n",
       "</div>"
      ],
      "text/plain": [
       "            Borough                                 Neighborhood  \\\n",
       "0  Downtown Toronto                    Regent Park, Harbourfront   \n",
       "1  Downtown Toronto                    Regent Park, Harbourfront   \n",
       "2  Downtown Toronto  Queen's Park, Ontario Provincial Government   \n",
       "3        North York                                    Don Mills   \n",
       "4      East Toronto                                  The Beaches   \n",
       "\n",
       "                         ID                   Name  \n",
       "0  4af9a379f964a520c91222e3          Bombay Palace  \n",
       "1  52af6dc5498e33995b0bbf03      Sultan Of Samosas  \n",
       "2  4bedf8b5e24d20a17b567214  Kothur Indian Cuisine  \n",
       "3  5c229362a0215b002cb89eb2    Butter Chicken Roti  \n",
       "4  4dcd7c6352b1f8915b7e7f7e           Delhi Bistro  "
      ]
     },
     "execution_count": 9,
     "metadata": {},
     "output_type": "execute_result"
    }
   ],
   "source": [
    "indian_rest_to.head()"
   ]
  },
  {
   "cell_type": "code",
   "execution_count": 10,
   "metadata": {},
   "outputs": [
    {
     "data": {
      "text/plain": [
       "(50, 4)"
      ]
     },
     "execution_count": 10,
     "metadata": {},
     "output_type": "execute_result"
    }
   ],
   "source": [
    "indian_rest_to.shape"
   ]
  },
  {
   "cell_type": "markdown",
   "metadata": {},
   "source": [
    "We got 50 Indian Resturants across Toronto Neighborhoods"
   ]
  },
  {
   "cell_type": "code",
   "execution_count": 11,
   "metadata": {},
   "outputs": [
    {
     "data": {
      "image/png": "[encoded data removed]",
      "text/plain": [
       "<Figure size 900x500 with 1 Axes>"
      ]
     },
     "metadata": {
      "needs_background": "light"
     },
     "output_type": "display_data"
    }
   ],
   "source": [
    "plt.figure(figsize=(9,5), dpi = 100)\n",
    "# title\n",
    "plt.title('Number of Indian Restaurants for each Borough in Toronto')\n",
    "#On x-axis\n",
    "plt.xlabel('Borough', fontsize = 15)\n",
    "#On y-axis\n",
    "plt.ylabel('No.of Indian Restaurants', fontsize=15)\n",
    "#giving a bar plot\n",
    "indian_rest_to.groupby('Borough')['ID'].count().plot(kind='bar')\n",
    "#legend\n",
    "plt.legend()\n",
    "#displays the plot\n",
    "plt.show()"
   ]
  },
  {
   "cell_type": "markdown",
   "metadata": {},
   "source": [
    "We can note that East Toronto has Highest number of Indian Restaurants."
   ]
  },
  {
   "cell_type": "code",
   "execution_count": 82,
   "metadata": {},
   "outputs": [
    {
     "data": {
      "image/png": "[encoded data removed]",
      "text/plain": [
       "<Figure size 900x500 with 1 Axes>"
      ]
     },
     "metadata": {
      "needs_background": "light"
     },
     "output_type": "display_data"
    }
   ],
   "source": [
    "plt.figure(figsize=(9,5), dpi = 100)\n",
    "# title\n",
    "plt.title('Number of Indian Restaurants for each Neighborhood in Toronto')\n",
    "#On x-axis\n",
    "plt.xlabel('Neighborhood', fontsize = 15)\n",
    "#On y-axis\n",
    "plt.ylabel('No.of Indian Restaurants', fontsize=15)\n",
    "#giving a bar plot\n",
    "indian_rest_to.groupby('Neighborhood')['ID'].count().nlargest(5).plot(kind='bar')\n",
    "#legend\n",
    "plt.legend()\n",
    "#displays the plot\n",
    "plt.show()"
   ]
  },
  {
   "cell_type": "code",
   "execution_count": 14,
   "metadata": {},
   "outputs": [
    {
     "data": {
      "text/html": [
       "<div>\n",
       "<style scoped>\n",
       "    .dataframe tbody tr th:only-of-type {\n",
       "        vertical-align: middle;\n",
       "    }\n",
       "\n",
       "    .dataframe tbody tr th {\n",
       "        vertical-align: top;\n",
       "    }\n",
       "\n",
       "    .dataframe thead th {\n",
       "        text-align: right;\n",
       "    }\n",
       "</style>\n",
       "<table border=\"1\" class=\"dataframe\">\n",
       "  <thead>\n",
       "    <tr style=\"text-align: right;\">\n",
       "      <th></th>\n",
       "      <th>Borough</th>\n",
       "      <th>Neighborhood</th>\n",
       "      <th>ID</th>\n",
       "      <th>Name</th>\n",
       "    </tr>\n",
       "  </thead>\n",
       "  <tbody>\n",
       "    <tr>\n",
       "      <th>21</th>\n",
       "      <td>East Toronto</td>\n",
       "      <td>India Bazaar, The Beaches West</td>\n",
       "      <td>4ae0c7a8f964a520638221e3</td>\n",
       "      <td>Udupi Palace</td>\n",
       "    </tr>\n",
       "    <tr>\n",
       "      <th>22</th>\n",
       "      <td>East Toronto</td>\n",
       "      <td>India Bazaar, The Beaches West</td>\n",
       "      <td>4afc9816f964a520312422e3</td>\n",
       "      <td>Motimahal</td>\n",
       "    </tr>\n",
       "    <tr>\n",
       "      <th>23</th>\n",
       "      <td>East Toronto</td>\n",
       "      <td>India Bazaar, The Beaches West</td>\n",
       "      <td>4bac30a2f964a52018ea3ae3</td>\n",
       "      <td>Bombay Chowpatty</td>\n",
       "    </tr>\n",
       "    <tr>\n",
       "      <th>24</th>\n",
       "      <td>East Toronto</td>\n",
       "      <td>India Bazaar, The Beaches West</td>\n",
       "      <td>4ad9052cf964a520301721e3</td>\n",
       "      <td>Regency Restaurant</td>\n",
       "    </tr>\n",
       "    <tr>\n",
       "      <th>25</th>\n",
       "      <td>East Toronto</td>\n",
       "      <td>India Bazaar, The Beaches West</td>\n",
       "      <td>4bbcc0efa0a0c9b60ebd1a0f</td>\n",
       "      <td>Haandi 2000</td>\n",
       "    </tr>\n",
       "    <tr>\n",
       "      <th>26</th>\n",
       "      <td>East Toronto</td>\n",
       "      <td>India Bazaar, The Beaches West</td>\n",
       "      <td>4d8d278a1d06b1f712942a3b</td>\n",
       "      <td>Gautama</td>\n",
       "    </tr>\n",
       "    <tr>\n",
       "      <th>27</th>\n",
       "      <td>East Toronto</td>\n",
       "      <td>India Bazaar, The Beaches West</td>\n",
       "      <td>4ae4c793f964a5201b9e21e3</td>\n",
       "      <td>The Famous Indian Restaurant</td>\n",
       "    </tr>\n",
       "    <tr>\n",
       "      <th>28</th>\n",
       "      <td>East Toronto</td>\n",
       "      <td>India Bazaar, The Beaches West</td>\n",
       "      <td>4edd30c09adfe5cbe2818dc4</td>\n",
       "      <td>Lahori Taste &amp; Burger House</td>\n",
       "    </tr>\n",
       "  </tbody>\n",
       "</table>\n",
       "</div>"
      ],
      "text/plain": [
       "         Borough                    Neighborhood                        ID  \\\n",
       "21  East Toronto  India Bazaar, The Beaches West  4ae0c7a8f964a520638221e3   \n",
       "22  East Toronto  India Bazaar, The Beaches West  4afc9816f964a520312422e3   \n",
       "23  East Toronto  India Bazaar, The Beaches West  4bac30a2f964a52018ea3ae3   \n",
       "24  East Toronto  India Bazaar, The Beaches West  4ad9052cf964a520301721e3   \n",
       "25  East Toronto  India Bazaar, The Beaches West  4bbcc0efa0a0c9b60ebd1a0f   \n",
       "26  East Toronto  India Bazaar, The Beaches West  4d8d278a1d06b1f712942a3b   \n",
       "27  East Toronto  India Bazaar, The Beaches West  4ae4c793f964a5201b9e21e3   \n",
       "28  East Toronto  India Bazaar, The Beaches West  4edd30c09adfe5cbe2818dc4   \n",
       "\n",
       "                            Name  \n",
       "21                  Udupi Palace  \n",
       "22                     Motimahal  \n",
       "23              Bombay Chowpatty  \n",
       "24            Regency Restaurant  \n",
       "25                   Haandi 2000  \n",
       "26                       Gautama  \n",
       "27  The Famous Indian Restaurant  \n",
       "28   Lahori Taste & Burger House  "
      ]
     },
     "execution_count": 14,
     "metadata": {},
     "output_type": "execute_result"
    }
   ],
   "source": [
    "indian_rest_to[indian_rest_to['Neighborhood']=='India Bazaar, The Beaches West']"
   ]
  },
  {
   "cell_type": "markdown",
   "metadata": {},
   "source": [
    "We can note that India Bazaar, The Beaches West in East Toronto has highest Indian Restaurents with total count of 8."
   ]
  },
  {
   "cell_type": "markdown",
   "metadata": {},
   "source": [
    "Now we will get the ranking of each restaurants for further analysis."
   ]
  },
  {
   "cell_type": "code",
   "execution_count": 80,
   "metadata": {},
   "outputs": [
    {
     "ename": "KeyError",
     "evalue": "'venue'",
     "output_type": "error",
     "traceback": [
      "\u001b[0;31m---------------------------------------------------------------------------\u001b[0m",
      "\u001b[0;31mKeyError\u001b[0m                                  Traceback (most recent call last)",
      "\u001b[0;32m<ipython-input-80-ed5379c0a5af>\u001b[0m in \u001b[0;36m<module>\u001b[0;34m\u001b[0m\n\u001b[1;32m      8\u001b[0m     \u001b[0mBorough\u001b[0m\u001b[0;34m,\u001b[0m\u001b[0mNeighborhood\u001b[0m\u001b[0;34m,\u001b[0m\u001b[0mID\u001b[0m\u001b[0;34m,\u001b[0m\u001b[0mName\u001b[0m\u001b[0;34m=\u001b[0m\u001b[0mrow\u001b[0m\u001b[0;34m\u001b[0m\u001b[0;34m\u001b[0m\u001b[0m\n\u001b[1;32m      9\u001b[0m     \u001b[0;32mtry\u001b[0m\u001b[0;34m:\u001b[0m\u001b[0;34m\u001b[0m\u001b[0;34m\u001b[0m\u001b[0m\n\u001b[0;32m---> 10\u001b[0;31m         \u001b[0mvenue_details\u001b[0m\u001b[0;34m=\u001b[0m\u001b[0mget_venue_details\u001b[0m\u001b[0;34m(\u001b[0m\u001b[0mID\u001b[0m\u001b[0;34m)\u001b[0m\u001b[0;34m\u001b[0m\u001b[0;34m\u001b[0m\u001b[0m\n\u001b[0m\u001b[1;32m     11\u001b[0m         \u001b[0mprint\u001b[0m\u001b[0;34m(\u001b[0m\u001b[0mvenue_details\u001b[0m\u001b[0;34m)\u001b[0m\u001b[0;34m\u001b[0m\u001b[0;34m\u001b[0m\u001b[0m\n\u001b[1;32m     12\u001b[0m         \u001b[0mid\u001b[0m\u001b[0;34m,\u001b[0m\u001b[0mname\u001b[0m\u001b[0;34m,\u001b[0m\u001b[0mlikes\u001b[0m\u001b[0;34m,\u001b[0m\u001b[0mrating\u001b[0m\u001b[0;34m,\u001b[0m\u001b[0mtips\u001b[0m\u001b[0;34m=\u001b[0m\u001b[0mvenue_details\u001b[0m\u001b[0;34m.\u001b[0m\u001b[0mvalues\u001b[0m\u001b[0;34m.\u001b[0m\u001b[0mtolist\u001b[0m\u001b[0;34m(\u001b[0m\u001b[0;34m)\u001b[0m\u001b[0;34m[\u001b[0m\u001b[0;36m0\u001b[0m\u001b[0;34m]\u001b[0m\u001b[0;34m\u001b[0m\u001b[0;34m\u001b[0m\u001b[0m\n",
      "\u001b[0;32m<ipython-input-79-7741d5929bd7>\u001b[0m in \u001b[0;36mget_venue_details\u001b[0;34m(venue_id)\u001b[0m\n\u001b[1;32m     14\u001b[0m     \u001b[0;31m# get all the data\u001b[0m\u001b[0;34m\u001b[0m\u001b[0;34m\u001b[0m\u001b[0;34m\u001b[0m\u001b[0m\n\u001b[1;32m     15\u001b[0m     \u001b[0mresults\u001b[0m \u001b[0;34m=\u001b[0m \u001b[0mrequests\u001b[0m\u001b[0;34m.\u001b[0m\u001b[0mget\u001b[0m\u001b[0;34m(\u001b[0m\u001b[0murl\u001b[0m\u001b[0;34m)\u001b[0m\u001b[0;34m.\u001b[0m\u001b[0mjson\u001b[0m\u001b[0;34m(\u001b[0m\u001b[0;34m)\u001b[0m\u001b[0;34m\u001b[0m\u001b[0;34m\u001b[0m\u001b[0m\n\u001b[0;32m---> 16\u001b[0;31m     \u001b[0mvenue_data\u001b[0m\u001b[0;34m=\u001b[0m\u001b[0mresults\u001b[0m\u001b[0;34m[\u001b[0m\u001b[0;34m'response'\u001b[0m\u001b[0;34m]\u001b[0m\u001b[0;34m[\u001b[0m\u001b[0;34m'venue'\u001b[0m\u001b[0;34m]\u001b[0m\u001b[0;34m\u001b[0m\u001b[0;34m\u001b[0m\u001b[0m\n\u001b[0m\u001b[1;32m     17\u001b[0m     \u001b[0mvenue_details\u001b[0m\u001b[0;34m=\u001b[0m\u001b[0;34m[\u001b[0m\u001b[0;34m]\u001b[0m\u001b[0;34m\u001b[0m\u001b[0;34m\u001b[0m\u001b[0m\n\u001b[1;32m     18\u001b[0m     \u001b[0;32mtry\u001b[0m\u001b[0;34m:\u001b[0m\u001b[0;34m\u001b[0m\u001b[0;34m\u001b[0m\u001b[0m\n",
      "\u001b[0;31mKeyError\u001b[0m: 'venue'"
     ]
    }
   ],
   "source": [
    "# prepare neighborhood list that contains indian resturants\n",
    "column_names=['Borough', 'Neighborhood', 'ID','Name','Likes','Rating','Tips']\n",
    "indian_rest_stats_to=pd.DataFrame(columns=column_names)\n",
    "count=1\n",
    "\n",
    "\n",
    "for row in indian_rest_to.values.tolist():\n",
    "    Borough,Neighborhood,ID,Name=row\n",
    "    try:\n",
    "        venue_details=get_venue_details(ID)\n",
    "        print(venue_details)\n",
    "        id,name,likes,rating,tips=venue_details.values.tolist()[0]\n",
    "    except IndexError:\n",
    "        print('No data available for id=',ID)\n",
    "        # we will assign 0 value for these resturants as they may have been \n",
    "        #recently opened or details does not exist in FourSquare Database\n",
    "        id,name,likes,rating,tips=[0]*5\n",
    "    print('(',count,'/',len(indian_rest_to),')','processed')\n",
    "    indian_rest_stats_to = indian_rest_stats_to.append({'Borough': Borough,\n",
    "                                                'Neighborhood': Neighborhood, \n",
    "                                                'ID': id,\n",
    "                                                'Name' : name,\n",
    "                                                'Likes' : likes,\n",
    "                                                'Rating' : rating,\n",
    "                                                'Tips' : tips\n",
    "                                               }, ignore_index=True)\n",
    "    count+=1"
   ]
  },
  {
   "cell_type": "code",
   "execution_count": 39,
   "metadata": {},
   "outputs": [
    {
     "data": {
      "text/html": [
       "<div>\n",
       "<style scoped>\n",
       "    .dataframe tbody tr th:only-of-type {\n",
       "        vertical-align: middle;\n",
       "    }\n",
       "\n",
       "    .dataframe tbody tr th {\n",
       "        vertical-align: top;\n",
       "    }\n",
       "\n",
       "    .dataframe thead th {\n",
       "        text-align: right;\n",
       "    }\n",
       "</style>\n",
       "<table border=\"1\" class=\"dataframe\">\n",
       "  <thead>\n",
       "    <tr style=\"text-align: right;\">\n",
       "      <th></th>\n",
       "      <th>Borough</th>\n",
       "      <th>Neighborhood</th>\n",
       "      <th>ID</th>\n",
       "      <th>Name</th>\n",
       "      <th>Likes</th>\n",
       "      <th>Rating</th>\n",
       "      <th>Tips</th>\n",
       "    </tr>\n",
       "  </thead>\n",
       "  <tbody>\n",
       "    <tr>\n",
       "      <th>0</th>\n",
       "      <td>Downtown Toronto</td>\n",
       "      <td>Regent Park, Harbourfront</td>\n",
       "      <td>4af9a379f964a520c91222e3</td>\n",
       "      <td>Bombay Palace</td>\n",
       "      <td>14</td>\n",
       "      <td>7.5</td>\n",
       "      <td>13</td>\n",
       "    </tr>\n",
       "    <tr>\n",
       "      <th>1</th>\n",
       "      <td>Downtown Toronto</td>\n",
       "      <td>Regent Park, Harbourfront</td>\n",
       "      <td>52af6dc5498e33995b0bbf03</td>\n",
       "      <td>Sultan Of Samosas</td>\n",
       "      <td>9</td>\n",
       "      <td>6.7</td>\n",
       "      <td>4</td>\n",
       "    </tr>\n",
       "    <tr>\n",
       "      <th>2</th>\n",
       "      <td>Downtown Toronto</td>\n",
       "      <td>Queen's Park, Ontario Provincial Government</td>\n",
       "      <td>4bedf8b5e24d20a17b567214</td>\n",
       "      <td>Kothur Indian Cuisine</td>\n",
       "      <td>16</td>\n",
       "      <td>8.0</td>\n",
       "      <td>19</td>\n",
       "    </tr>\n",
       "    <tr>\n",
       "      <th>3</th>\n",
       "      <td>North York</td>\n",
       "      <td>Don Mills</td>\n",
       "      <td>0</td>\n",
       "      <td>0</td>\n",
       "      <td>0</td>\n",
       "      <td>0.0</td>\n",
       "      <td>0</td>\n",
       "    </tr>\n",
       "    <tr>\n",
       "      <th>4</th>\n",
       "      <td>East Toronto</td>\n",
       "      <td>The Beaches</td>\n",
       "      <td>4dcd7c6352b1f8915b7e7f7e</td>\n",
       "      <td>Delhi Bistro</td>\n",
       "      <td>6</td>\n",
       "      <td>6.9</td>\n",
       "      <td>3</td>\n",
       "    </tr>\n",
       "  </tbody>\n",
       "</table>\n",
       "</div>"
      ],
      "text/plain": [
       "            Borough                                 Neighborhood  \\\n",
       "0  Downtown Toronto                    Regent Park, Harbourfront   \n",
       "1  Downtown Toronto                    Regent Park, Harbourfront   \n",
       "2  Downtown Toronto  Queen's Park, Ontario Provincial Government   \n",
       "3        North York                                    Don Mills   \n",
       "4      East Toronto                                  The Beaches   \n",
       "\n",
       "                         ID                   Name Likes  Rating Tips  \n",
       "0  4af9a379f964a520c91222e3          Bombay Palace    14     7.5   13  \n",
       "1  52af6dc5498e33995b0bbf03      Sultan Of Samosas     9     6.7    4  \n",
       "2  4bedf8b5e24d20a17b567214  Kothur Indian Cuisine    16     8.0   19  \n",
       "3                         0                      0     0     0.0    0  \n",
       "4  4dcd7c6352b1f8915b7e7f7e           Delhi Bistro     6     6.9    3  "
      ]
     },
     "execution_count": 39,
     "metadata": {},
     "output_type": "execute_result"
    }
   ],
   "source": [
    "indian_rest_stats_to.head()"
   ]
  },
  {
   "cell_type": "code",
   "execution_count": 40,
   "metadata": {},
   "outputs": [
    {
     "data": {
      "text/plain": [
       "(50, 7)"
      ]
     },
     "execution_count": 40,
     "metadata": {},
     "output_type": "execute_result"
    }
   ],
   "source": [
    "indian_rest_stats_to.shape"
   ]
  },
  {
   "cell_type": "code",
   "execution_count": 41,
   "metadata": {},
   "outputs": [
    {
     "data": {
      "text/plain": [
       "(50, 4)"
      ]
     },
     "execution_count": 41,
     "metadata": {},
     "output_type": "execute_result"
    }
   ],
   "source": [
    "indian_rest_to.shape"
   ]
  },
  {
   "cell_type": "markdown",
   "metadata": {},
   "source": [
    "So we got data for all resturants Now lets save this data to a csv sheet. In case we by mistake modify it. As the number of calls to get details for venue are premium call and have limit of 500 per day, we will refer to saved data sheet csv if required"
   ]
  },
  {
   "cell_type": "code",
   "execution_count": 42,
   "metadata": {},
   "outputs": [],
   "source": [
    "indian_rest_stats_to.to_csv('indian_rest_stats_to.csv', index=False)"
   ]
  },
  {
   "cell_type": "markdown",
   "metadata": {},
   "source": [
    "Lets verify the data from saved csv file"
   ]
  },
  {
   "cell_type": "code",
   "execution_count": 43,
   "metadata": {},
   "outputs": [],
   "source": [
    "indian_rest_stats_to_csv=pd.read_csv('indian_rest_stats_to.csv')"
   ]
  },
  {
   "cell_type": "code",
   "execution_count": 44,
   "metadata": {},
   "outputs": [
    {
     "data": {
      "text/plain": [
       "(50, 7)"
      ]
     },
     "execution_count": 44,
     "metadata": {},
     "output_type": "execute_result"
    }
   ],
   "source": [
    "indian_rest_stats_to_csv.shape"
   ]
  },
  {
   "cell_type": "code",
   "execution_count": 45,
   "metadata": {},
   "outputs": [
    {
     "data": {
      "text/html": [
       "<div>\n",
       "<style scoped>\n",
       "    .dataframe tbody tr th:only-of-type {\n",
       "        vertical-align: middle;\n",
       "    }\n",
       "\n",
       "    .dataframe tbody tr th {\n",
       "        vertical-align: top;\n",
       "    }\n",
       "\n",
       "    .dataframe thead th {\n",
       "        text-align: right;\n",
       "    }\n",
       "</style>\n",
       "<table border=\"1\" class=\"dataframe\">\n",
       "  <thead>\n",
       "    <tr style=\"text-align: right;\">\n",
       "      <th></th>\n",
       "      <th>Borough</th>\n",
       "      <th>Neighborhood</th>\n",
       "      <th>ID</th>\n",
       "      <th>Name</th>\n",
       "      <th>Likes</th>\n",
       "      <th>Rating</th>\n",
       "      <th>Tips</th>\n",
       "    </tr>\n",
       "  </thead>\n",
       "  <tbody>\n",
       "    <tr>\n",
       "      <th>0</th>\n",
       "      <td>Downtown Toronto</td>\n",
       "      <td>Regent Park, Harbourfront</td>\n",
       "      <td>4af9a379f964a520c91222e3</td>\n",
       "      <td>Bombay Palace</td>\n",
       "      <td>14</td>\n",
       "      <td>7.5</td>\n",
       "      <td>13</td>\n",
       "    </tr>\n",
       "    <tr>\n",
       "      <th>1</th>\n",
       "      <td>Downtown Toronto</td>\n",
       "      <td>Regent Park, Harbourfront</td>\n",
       "      <td>52af6dc5498e33995b0bbf03</td>\n",
       "      <td>Sultan Of Samosas</td>\n",
       "      <td>9</td>\n",
       "      <td>6.7</td>\n",
       "      <td>4</td>\n",
       "    </tr>\n",
       "    <tr>\n",
       "      <th>2</th>\n",
       "      <td>Downtown Toronto</td>\n",
       "      <td>Queen's Park, Ontario Provincial Government</td>\n",
       "      <td>4bedf8b5e24d20a17b567214</td>\n",
       "      <td>Kothur Indian Cuisine</td>\n",
       "      <td>16</td>\n",
       "      <td>8.0</td>\n",
       "      <td>19</td>\n",
       "    </tr>\n",
       "    <tr>\n",
       "      <th>3</th>\n",
       "      <td>North York</td>\n",
       "      <td>Don Mills</td>\n",
       "      <td>0</td>\n",
       "      <td>0</td>\n",
       "      <td>0</td>\n",
       "      <td>0.0</td>\n",
       "      <td>0</td>\n",
       "    </tr>\n",
       "    <tr>\n",
       "      <th>4</th>\n",
       "      <td>East Toronto</td>\n",
       "      <td>The Beaches</td>\n",
       "      <td>4dcd7c6352b1f8915b7e7f7e</td>\n",
       "      <td>Delhi Bistro</td>\n",
       "      <td>6</td>\n",
       "      <td>6.9</td>\n",
       "      <td>3</td>\n",
       "    </tr>\n",
       "  </tbody>\n",
       "</table>\n",
       "</div>"
      ],
      "text/plain": [
       "            Borough                                 Neighborhood  \\\n",
       "0  Downtown Toronto                    Regent Park, Harbourfront   \n",
       "1  Downtown Toronto                    Regent Park, Harbourfront   \n",
       "2  Downtown Toronto  Queen's Park, Ontario Provincial Government   \n",
       "3        North York                                    Don Mills   \n",
       "4      East Toronto                                  The Beaches   \n",
       "\n",
       "                         ID                   Name  Likes  Rating  Tips  \n",
       "0  4af9a379f964a520c91222e3          Bombay Palace     14     7.5    13  \n",
       "1  52af6dc5498e33995b0bbf03      Sultan Of Samosas      9     6.7     4  \n",
       "2  4bedf8b5e24d20a17b567214  Kothur Indian Cuisine     16     8.0    19  \n",
       "3                         0                      0      0     0.0     0  \n",
       "4  4dcd7c6352b1f8915b7e7f7e           Delhi Bistro      6     6.9     3  "
      ]
     },
     "execution_count": 45,
     "metadata": {},
     "output_type": "execute_result"
    }
   ],
   "source": [
    "indian_rest_stats_to_csv.head()"
   ]
  },
  {
   "cell_type": "code",
   "execution_count": 49,
   "metadata": {},
   "outputs": [
    {
     "name": "stdout",
     "output_type": "stream",
     "text": [
      "<class 'pandas.core.frame.DataFrame'>\n",
      "RangeIndex: 50 entries, 0 to 49\n",
      "Data columns (total 7 columns):\n",
      " #   Column        Non-Null Count  Dtype  \n",
      "---  ------        --------------  -----  \n",
      " 0   Borough       50 non-null     object \n",
      " 1   Neighborhood  50 non-null     object \n",
      " 2   ID            50 non-null     object \n",
      " 3   Name          50 non-null     object \n",
      " 4   Likes         50 non-null     int64  \n",
      " 5   Rating        50 non-null     float64\n",
      " 6   Tips          50 non-null     int64  \n",
      "dtypes: float64(1), int64(2), object(4)\n",
      "memory usage: 2.9+ KB\n"
     ]
    }
   ],
   "source": [
    "indian_rest_stats_to_csv.info()"
   ]
  },
  {
   "cell_type": "markdown",
   "metadata": {},
   "source": [
    "Here the data types looks correct, so no need of changing data types"
   ]
  },
  {
   "cell_type": "code",
   "execution_count": 50,
   "metadata": {},
   "outputs": [
    {
     "data": {
      "text/plain": [
       "Borough                 Downtown Toronto\n",
       "Neighborhood                    Christie\n",
       "ID              4adb969ef964a520332921e3\n",
       "Name              Banjara Indian Cuisine\n",
       "Likes                                142\n",
       "Rating                               8.6\n",
       "Tips                                  75\n",
       "Name: 8, dtype: object"
      ]
     },
     "execution_count": 50,
     "metadata": {},
     "output_type": "execute_result"
    }
   ],
   "source": [
    "# Resturant with maximum Likes\n",
    "indian_rest_stats_to_csv.iloc[indian_rest_stats_to_csv['Likes'].idxmax()]"
   ]
  },
  {
   "cell_type": "code",
   "execution_count": 51,
   "metadata": {},
   "outputs": [
    {
     "data": {
      "text/plain": [
       "Borough                 Downtown Toronto\n",
       "Neighborhood                    Christie\n",
       "ID              4adb969ef964a520332921e3\n",
       "Name              Banjara Indian Cuisine\n",
       "Likes                                142\n",
       "Rating                               8.6\n",
       "Tips                                  75\n",
       "Name: 8, dtype: object"
      ]
     },
     "execution_count": 51,
     "metadata": {},
     "output_type": "execute_result"
    }
   ],
   "source": [
    "# Resturant with maximum Rating\n",
    "indian_rest_stats_to_csv.iloc[indian_rest_stats_to_csv['Rating'].idxmax()]"
   ]
  },
  {
   "cell_type": "code",
   "execution_count": 52,
   "metadata": {},
   "outputs": [
    {
     "data": {
      "text/plain": [
       "Borough                 Downtown Toronto\n",
       "Neighborhood                    Christie\n",
       "ID              4adb969ef964a520332921e3\n",
       "Name              Banjara Indian Cuisine\n",
       "Likes                                142\n",
       "Rating                               8.6\n",
       "Tips                                  75\n",
       "Name: 8, dtype: object"
      ]
     },
     "execution_count": 52,
     "metadata": {},
     "output_type": "execute_result"
    }
   ],
   "source": [
    "# Resturant with maximum Tips\n",
    "indian_rest_stats_to_csv.iloc[indian_rest_stats_to_csv['Tips'].idxmax()]"
   ]
  },
  {
   "cell_type": "markdown",
   "metadata": {},
   "source": [
    "Now lets visualize neighborhood with maximum average rating of resturants"
   ]
  },
  {
   "cell_type": "code",
   "execution_count": 53,
   "metadata": {},
   "outputs": [],
   "source": [
    "to_neighborhood_stats=indian_rest_stats_to_csv.groupby('Neighborhood',as_index=False).mean()[['Neighborhood','Rating']]\n",
    "to_neighborhood_stats.columns=['Neighborhood','Average Rating']"
   ]
  },
  {
   "cell_type": "code",
   "execution_count": 84,
   "metadata": {},
   "outputs": [
    {
     "data": {
      "text/html": [
       "<div>\n",
       "<style scoped>\n",
       "    .dataframe tbody tr th:only-of-type {\n",
       "        vertical-align: middle;\n",
       "    }\n",
       "\n",
       "    .dataframe tbody tr th {\n",
       "        vertical-align: top;\n",
       "    }\n",
       "\n",
       "    .dataframe thead th {\n",
       "        text-align: right;\n",
       "    }\n",
       "</style>\n",
       "<table border=\"1\" class=\"dataframe\">\n",
       "  <thead>\n",
       "    <tr style=\"text-align: right;\">\n",
       "      <th></th>\n",
       "      <th>Borough</th>\n",
       "      <th>Neighborhood</th>\n",
       "      <th>Latitude</th>\n",
       "      <th>Longitude</th>\n",
       "      <th>Average Rating</th>\n",
       "      <th>Label</th>\n",
       "    </tr>\n",
       "  </thead>\n",
       "  <tbody>\n",
       "    <tr>\n",
       "      <th>2</th>\n",
       "      <td>West Toronto</td>\n",
       "      <td>High Park, The Junction South</td>\n",
       "      <td>43.661608</td>\n",
       "      <td>-79.464763</td>\n",
       "      <td>8.3</td>\n",
       "      <td>High Park, The Junction South, West Toronto(8.3)</td>\n",
       "    </tr>\n",
       "    <tr>\n",
       "      <th>4</th>\n",
       "      <td>Downtown Toronto</td>\n",
       "      <td>St. James Town, Cabbagetown</td>\n",
       "      <td>43.667967</td>\n",
       "      <td>-79.367675</td>\n",
       "      <td>8.3</td>\n",
       "      <td>St. James Town, Cabbagetown, Downtown Toronto(...</td>\n",
       "    </tr>\n",
       "    <tr>\n",
       "      <th>0</th>\n",
       "      <td>Downtown Toronto</td>\n",
       "      <td>Christie</td>\n",
       "      <td>43.669542</td>\n",
       "      <td>-79.422564</td>\n",
       "      <td>8.2</td>\n",
       "      <td>Christie, Downtown Toronto(8.2)</td>\n",
       "    </tr>\n",
       "    <tr>\n",
       "      <th>1</th>\n",
       "      <td>Downtown Toronto</td>\n",
       "      <td>Church and Wellesley</td>\n",
       "      <td>43.665860</td>\n",
       "      <td>-79.383160</td>\n",
       "      <td>8.0</td>\n",
       "      <td>Church and Wellesley, Downtown Toronto(8.0)</td>\n",
       "    </tr>\n",
       "    <tr>\n",
       "      <th>3</th>\n",
       "      <td>Downtown Toronto</td>\n",
       "      <td>Queen's Park, Ontario Provincial Government</td>\n",
       "      <td>43.662301</td>\n",
       "      <td>-79.389494</td>\n",
       "      <td>8.0</td>\n",
       "      <td>Queen's Park, Ontario Provincial Government, D...</td>\n",
       "    </tr>\n",
       "    <tr>\n",
       "      <th>5</th>\n",
       "      <td>Scarborough</td>\n",
       "      <td>Wexford, Maryvale</td>\n",
       "      <td>43.750072</td>\n",
       "      <td>-79.295849</td>\n",
       "      <td>8.0</td>\n",
       "      <td>Wexford, Maryvale, Scarborough(8.0)</td>\n",
       "    </tr>\n",
       "  </tbody>\n",
       "</table>\n",
       "</div>"
      ],
      "text/plain": [
       "            Borough                                 Neighborhood   Latitude  \\\n",
       "2      West Toronto                High Park, The Junction South  43.661608   \n",
       "4  Downtown Toronto                  St. James Town, Cabbagetown  43.667967   \n",
       "0  Downtown Toronto                                     Christie  43.669542   \n",
       "1  Downtown Toronto                         Church and Wellesley  43.665860   \n",
       "3  Downtown Toronto  Queen's Park, Ontario Provincial Government  43.662301   \n",
       "5       Scarborough                            Wexford, Maryvale  43.750072   \n",
       "\n",
       "   Longitude  Average Rating  \\\n",
       "2 -79.464763             8.3   \n",
       "4 -79.367675             8.3   \n",
       "0 -79.422564             8.2   \n",
       "1 -79.383160             8.0   \n",
       "3 -79.389494             8.0   \n",
       "5 -79.295849             8.0   \n",
       "\n",
       "                                               Label  \n",
       "2   High Park, The Junction South, West Toronto(8.3)  \n",
       "4  St. James Town, Cabbagetown, Downtown Toronto(...  \n",
       "0                    Christie, Downtown Toronto(8.2)  \n",
       "1        Church and Wellesley, Downtown Toronto(8.0)  \n",
       "3  Queen's Park, Ontario Provincial Government, D...  \n",
       "5                Wexford, Maryvale, Scarborough(8.0)  "
      ]
     },
     "execution_count": 84,
     "metadata": {},
     "output_type": "execute_result"
    }
   ],
   "source": [
    "to_neighborhood_stats.sort_values(['Average Rating'],ascending=False).head(10)"
   ]
  },
  {
   "cell_type": "markdown",
   "metadata": {},
   "source": [
    "These are the top neighborhoods with top average rating of Indian resturants in Toronto"
   ]
  },
  {
   "cell_type": "code",
   "execution_count": 56,
   "metadata": {},
   "outputs": [
    {
     "data": {
      "text/html": [
       "<div>\n",
       "<style scoped>\n",
       "    .dataframe tbody tr th:only-of-type {\n",
       "        vertical-align: middle;\n",
       "    }\n",
       "\n",
       "    .dataframe tbody tr th {\n",
       "        vertical-align: top;\n",
       "    }\n",
       "\n",
       "    .dataframe thead th {\n",
       "        text-align: right;\n",
       "    }\n",
       "</style>\n",
       "<table border=\"1\" class=\"dataframe\">\n",
       "  <thead>\n",
       "    <tr style=\"text-align: right;\">\n",
       "      <th></th>\n",
       "      <th>Borough</th>\n",
       "      <th>Average Rating</th>\n",
       "    </tr>\n",
       "  </thead>\n",
       "  <tbody>\n",
       "    <tr>\n",
       "      <th>8</th>\n",
       "      <td>West Toronto</td>\n",
       "      <td>7.800000</td>\n",
       "    </tr>\n",
       "    <tr>\n",
       "      <th>1</th>\n",
       "      <td>Downtown Toronto</td>\n",
       "      <td>7.750000</td>\n",
       "    </tr>\n",
       "    <tr>\n",
       "      <th>0</th>\n",
       "      <td>Central Toronto</td>\n",
       "      <td>7.460000</td>\n",
       "    </tr>\n",
       "    <tr>\n",
       "      <th>4</th>\n",
       "      <td>Etobicoke</td>\n",
       "      <td>7.000000</td>\n",
       "    </tr>\n",
       "    <tr>\n",
       "      <th>5</th>\n",
       "      <td>Mississauga</td>\n",
       "      <td>6.350000</td>\n",
       "    </tr>\n",
       "    <tr>\n",
       "      <th>9</th>\n",
       "      <td>York</td>\n",
       "      <td>6.200000</td>\n",
       "    </tr>\n",
       "    <tr>\n",
       "      <th>7</th>\n",
       "      <td>Scarborough</td>\n",
       "      <td>5.337500</td>\n",
       "    </tr>\n",
       "    <tr>\n",
       "      <th>2</th>\n",
       "      <td>East Toronto</td>\n",
       "      <td>5.072727</td>\n",
       "    </tr>\n",
       "    <tr>\n",
       "      <th>3</th>\n",
       "      <td>East York</td>\n",
       "      <td>4.550000</td>\n",
       "    </tr>\n",
       "    <tr>\n",
       "      <th>6</th>\n",
       "      <td>North York</td>\n",
       "      <td>4.466667</td>\n",
       "    </tr>\n",
       "  </tbody>\n",
       "</table>\n",
       "</div>"
      ],
      "text/plain": [
       "            Borough  Average Rating\n",
       "8      West Toronto        7.800000\n",
       "1  Downtown Toronto        7.750000\n",
       "0   Central Toronto        7.460000\n",
       "4         Etobicoke        7.000000\n",
       "5       Mississauga        6.350000\n",
       "9              York        6.200000\n",
       "7       Scarborough        5.337500\n",
       "2      East Toronto        5.072727\n",
       "3         East York        4.550000\n",
       "6        North York        4.466667"
      ]
     },
     "execution_count": 56,
     "metadata": {},
     "output_type": "execute_result"
    }
   ],
   "source": [
    "to_borough_stats=indian_rest_stats_to_csv.groupby('Borough',as_index=False).mean()[['Borough','Rating']]\n",
    "to_borough_stats.columns=['Borough','Average Rating']\n",
    "to_borough_stats.sort_values(['Average Rating'],ascending=False).head(10)"
   ]
  },
  {
   "cell_type": "markdown",
   "metadata": {},
   "source": [
    "Similarly these are the average rating of Indian Resturants for each Borough in Toronto"
   ]
  },
  {
   "cell_type": "markdown",
   "metadata": {},
   "source": [
    "Lets Visualize it by Graph"
   ]
  },
  {
   "cell_type": "code",
   "execution_count": 58,
   "metadata": {},
   "outputs": [
    {
     "data": {
      "image/png": "[encoded data removed]",
      "text/plain": [
       "<Figure size 900x500 with 1 Axes>"
      ]
     },
     "metadata": {
      "needs_background": "light"
     },
     "output_type": "display_data"
    }
   ],
   "source": [
    "plt.figure(figsize=(9,5), dpi = 100)\n",
    "# title\n",
    "plt.title('Average rating of Indian Resturants for each Borough in Toronto')\n",
    "#On x-axis\n",
    "plt.xlabel('Borough', fontsize = 15)\n",
    "#On y-axis\n",
    "plt.ylabel('Average Rating', fontsize=15)\n",
    "#giving a bar plot\n",
    "indian_rest_stats_to_csv.groupby('Borough').mean()['Rating'].plot(kind='bar')\n",
    "#legend\n",
    "plt.legend()\n",
    "#displays the plot\n",
    "plt.show()"
   ]
  },
  {
   "cell_type": "markdown",
   "metadata": {},
   "source": [
    "We will consider all the neighborhoods with average rating greater or equal 8.0 to visualize on map"
   ]
  },
  {
   "cell_type": "code",
   "execution_count": 59,
   "metadata": {},
   "outputs": [
    {
     "data": {
      "text/html": [
       "<div>\n",
       "<style scoped>\n",
       "    .dataframe tbody tr th:only-of-type {\n",
       "        vertical-align: middle;\n",
       "    }\n",
       "\n",
       "    .dataframe tbody tr th {\n",
       "        vertical-align: top;\n",
       "    }\n",
       "\n",
       "    .dataframe thead th {\n",
       "        text-align: right;\n",
       "    }\n",
       "</style>\n",
       "<table border=\"1\" class=\"dataframe\">\n",
       "  <thead>\n",
       "    <tr style=\"text-align: right;\">\n",
       "      <th></th>\n",
       "      <th>Neighborhood</th>\n",
       "      <th>Average Rating</th>\n",
       "    </tr>\n",
       "  </thead>\n",
       "  <tbody>\n",
       "    <tr>\n",
       "      <th>5</th>\n",
       "      <td>Christie</td>\n",
       "      <td>8.2</td>\n",
       "    </tr>\n",
       "    <tr>\n",
       "      <th>6</th>\n",
       "      <td>Church and Wellesley</td>\n",
       "      <td>8.0</td>\n",
       "    </tr>\n",
       "    <tr>\n",
       "      <th>12</th>\n",
       "      <td>High Park, The Junction South</td>\n",
       "      <td>8.3</td>\n",
       "    </tr>\n",
       "    <tr>\n",
       "      <th>16</th>\n",
       "      <td>Queen's Park, Ontario Provincial Government</td>\n",
       "      <td>8.0</td>\n",
       "    </tr>\n",
       "    <tr>\n",
       "      <th>20</th>\n",
       "      <td>St. James Town, Cabbagetown</td>\n",
       "      <td>8.3</td>\n",
       "    </tr>\n",
       "    <tr>\n",
       "      <th>27</th>\n",
       "      <td>Wexford, Maryvale</td>\n",
       "      <td>8.0</td>\n",
       "    </tr>\n",
       "  </tbody>\n",
       "</table>\n",
       "</div>"
      ],
      "text/plain": [
       "                                   Neighborhood  Average Rating\n",
       "5                                      Christie             8.2\n",
       "6                          Church and Wellesley             8.0\n",
       "12                High Park, The Junction South             8.3\n",
       "16  Queen's Park, Ontario Provincial Government             8.0\n",
       "20                  St. James Town, Cabbagetown             8.3\n",
       "27                            Wexford, Maryvale             8.0"
      ]
     },
     "execution_count": 59,
     "metadata": {},
     "output_type": "execute_result"
    }
   ],
   "source": [
    "to_neighborhood_stats=to_neighborhood_stats[to_neighborhood_stats['Average Rating']>=8.0]\n",
    "to_neighborhood_stats"
   ]
  },
  {
   "cell_type": "markdown",
   "metadata": {},
   "source": [
    "We will join this dataset to original Toronto data to get latitude and lonitude"
   ]
  },
  {
   "cell_type": "code",
   "execution_count": 60,
   "metadata": {},
   "outputs": [
    {
     "data": {
      "text/html": [
       "<div>\n",
       "<style scoped>\n",
       "    .dataframe tbody tr th:only-of-type {\n",
       "        vertical-align: middle;\n",
       "    }\n",
       "\n",
       "    .dataframe tbody tr th {\n",
       "        vertical-align: top;\n",
       "    }\n",
       "\n",
       "    .dataframe thead th {\n",
       "        text-align: right;\n",
       "    }\n",
       "</style>\n",
       "<table border=\"1\" class=\"dataframe\">\n",
       "  <thead>\n",
       "    <tr style=\"text-align: right;\">\n",
       "      <th></th>\n",
       "      <th>Borough</th>\n",
       "      <th>Neighborhood</th>\n",
       "      <th>Latitude</th>\n",
       "      <th>Longitude</th>\n",
       "      <th>Average Rating</th>\n",
       "    </tr>\n",
       "  </thead>\n",
       "  <tbody>\n",
       "    <tr>\n",
       "      <th>0</th>\n",
       "      <td>Downtown Toronto</td>\n",
       "      <td>Christie</td>\n",
       "      <td>43.669542</td>\n",
       "      <td>-79.422564</td>\n",
       "      <td>8.2</td>\n",
       "    </tr>\n",
       "    <tr>\n",
       "      <th>1</th>\n",
       "      <td>Downtown Toronto</td>\n",
       "      <td>Church and Wellesley</td>\n",
       "      <td>43.665860</td>\n",
       "      <td>-79.383160</td>\n",
       "      <td>8.0</td>\n",
       "    </tr>\n",
       "    <tr>\n",
       "      <th>2</th>\n",
       "      <td>West Toronto</td>\n",
       "      <td>High Park, The Junction South</td>\n",
       "      <td>43.661608</td>\n",
       "      <td>-79.464763</td>\n",
       "      <td>8.3</td>\n",
       "    </tr>\n",
       "    <tr>\n",
       "      <th>3</th>\n",
       "      <td>Downtown Toronto</td>\n",
       "      <td>Queen's Park, Ontario Provincial Government</td>\n",
       "      <td>43.662301</td>\n",
       "      <td>-79.389494</td>\n",
       "      <td>8.0</td>\n",
       "    </tr>\n",
       "    <tr>\n",
       "      <th>4</th>\n",
       "      <td>Downtown Toronto</td>\n",
       "      <td>St. James Town, Cabbagetown</td>\n",
       "      <td>43.667967</td>\n",
       "      <td>-79.367675</td>\n",
       "      <td>8.3</td>\n",
       "    </tr>\n",
       "    <tr>\n",
       "      <th>5</th>\n",
       "      <td>Scarborough</td>\n",
       "      <td>Wexford, Maryvale</td>\n",
       "      <td>43.750072</td>\n",
       "      <td>-79.295849</td>\n",
       "      <td>8.0</td>\n",
       "    </tr>\n",
       "  </tbody>\n",
       "</table>\n",
       "</div>"
      ],
      "text/plain": [
       "            Borough                                 Neighborhood   Latitude  \\\n",
       "0  Downtown Toronto                                     Christie  43.669542   \n",
       "1  Downtown Toronto                         Church and Wellesley  43.665860   \n",
       "2      West Toronto                High Park, The Junction South  43.661608   \n",
       "3  Downtown Toronto  Queen's Park, Ontario Provincial Government  43.662301   \n",
       "4  Downtown Toronto                  St. James Town, Cabbagetown  43.667967   \n",
       "5       Scarborough                            Wexford, Maryvale  43.750072   \n",
       "\n",
       "   Longitude  Average Rating  \n",
       "0 -79.422564             8.2  \n",
       "1 -79.383160             8.0  \n",
       "2 -79.464763             8.3  \n",
       "3 -79.389494             8.0  \n",
       "4 -79.367675             8.3  \n",
       "5 -79.295849             8.0  "
      ]
     },
     "execution_count": 60,
     "metadata": {},
     "output_type": "execute_result"
    }
   ],
   "source": [
    "to_neighborhood_stats=pd.merge(to_neighborhood_stats,df_to, on='Neighborhood')\n",
    "to_neighborhood_stats=to_neighborhood_stats[['Borough','Neighborhood','Latitude','Longitude','Average Rating']]\n",
    "to_neighborhood_stats"
   ]
  },
  {
   "cell_type": "markdown",
   "metadata": {},
   "source": [
    "Now we will plot this data on a map"
   ]
  },
  {
   "cell_type": "code",
   "execution_count": 85,
   "metadata": {},
   "outputs": [],
   "source": [
    "# create map and display it\n",
    "to_map = folium.Map(location=geo_location('Toronto, ON, Canada'), zoom_start=12)"
   ]
  },
  {
   "cell_type": "code",
   "execution_count": 86,
   "metadata": {},
   "outputs": [],
   "source": [
    "# instantiate a feature group for the incidents in the dataframe\n",
    "incidents = folium.map.FeatureGroup()\n",
    "\n",
    "# loop through the Neighborhoods and add each to the incidents feature group\n",
    "for lat, lng, in to_neighborhood_stats[['Latitude','Longitude']].values:\n",
    "    incidents.add_child(\n",
    "        folium.CircleMarker(\n",
    "            [lat, lng],\n",
    "            radius=10, # define how big you want the circle markers to be\n",
    "            color='yellow',\n",
    "            fill=True,\n",
    "            fill_color='blue',\n",
    "            fill_opacity=0.6\n",
    "        )\n",
    "    )"
   ]
  },
  {
   "cell_type": "markdown",
   "metadata": {},
   "source": [
    "Lets add a new field to dataframe for labeling purpose"
   ]
  },
  {
   "cell_type": "code",
   "execution_count": 87,
   "metadata": {},
   "outputs": [],
   "source": [
    "to_neighborhood_stats['Label']=to_neighborhood_stats['Neighborhood']+', '+to_neighborhood_stats['Borough']+'('+to_neighborhood_stats['Average Rating'].map(str)+')'"
   ]
  },
  {
   "cell_type": "code",
   "execution_count": 90,
   "metadata": {},
   "outputs": [
    {
     "data": {
      "text/html": [
       "<div style=\"width:100%;\"><div style=\"position:relative;width:100%;height:0;padding-bottom:60%;\"><span style=\"color:#565656\">Make this Notebook Trusted to load map: File -> Trust Notebook</span><iframe src=\"about:blank\" style=\"position:absolute;width:100%;height:100%;left:0;top:0;border:none !important;\" data-html=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 onload=\"this.contentDocument.open();this.contentDocument.write(atob(this.getAttribute('data-html')));this.contentDocument.close();\" allowfullscreen webkitallowfullscreen mozallowfullscreen></iframe></div></div>"
      ],
      "text/plain": [
       "<folium.folium.Map at 0x7ff67eeeaac8>"
      ]
     },
     "execution_count": 90,
     "metadata": {},
     "output_type": "execute_result"
    }
   ],
   "source": [
    "# add pop-up text to each marker on the map\n",
    "for lat, lng, label in to_neighborhood_stats[['Latitude','Longitude','Label']].values:\n",
    "    folium.Marker([lat, lng], popup=label).add_to(to_map)        \n",
    "# add incidents to map\n",
    "to_map.add_child(incidents)"
   ]
  },
  {
   "cell_type": "markdown",
   "metadata": {},
   "source": [
    "### **Conclusion**"
   ]
  },
  {
   "cell_type": "markdown",
   "metadata": {},
   "source": [
    "* Christie and St. James Town, Cabbagetown in Downtown Toronto and High Park, The Junction South in West Toronto are some of the good neighborhoods for having Indian Cuisine.\n",
    "* West Toronto and Downtown Toronto has potential Indian Restaurant Market.\n",
    "* North York ranks last in average rating of Indian Restaurants.\n",
    "* Downtown Toronto is the best place to stay if you prefer Indian Cuisine."
   ]
  },
  {
   "cell_type": "markdown",
   "metadata": {},
   "source": [
    "### **Limitations**"
   ]
  },
  {
   "cell_type": "markdown",
   "metadata": {},
   "source": [
    "* The ranking is purely on basis of rating of restaurants.\n",
    "* The accuracy of data depends purely on the data provided by FourSquare Database."
   ]
  },
  {
   "cell_type": "code",
   "execution_count": null,
   "metadata": {},
   "outputs": [],
   "source": []
  }
 ],
 "metadata": {
  "kernelspec": {
   "display_name": "Python",
   "language": "python",
   "name": "conda-env-python-py"
  },
  "language_info": {
   "codemirror_mode": {
    "name": "ipython",
    "version": 3
   },
   "file_extension": ".py",
   "mimetype": "text/x-python",
   "name": "python",
   "nbconvert_exporter": "python",
   "pygments_lexer": "ipython3",
   "version": "3.6.12"
  }
 },
 "nbformat": 4,
 "nbformat_minor": 4
}
